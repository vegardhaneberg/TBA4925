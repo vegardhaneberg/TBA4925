{
 "cells": [
  {
   "cell_type": "code",
   "execution_count": null,
   "metadata": {},
   "outputs": [],
   "source": [
    "# Licensed under the Apache License, Version 2.0 (the \"License\");\n",
    "# you may not use this file except in compliance with the License.\n",
    "# You may obtain a copy of the License at\n",
    "#\n",
    "#      http://www.apache.org/licenses/LICENSE-2.0\n",
    "#\n",
    "# Unless required by applicable law or agreed to in writing, software\n",
    "# distributed under the License is distributed on an \"AS IS\" BASIS,\n",
    "# WITHOUT WARRANTIES OR CONDITIONS OF ANY KIND, either express or implied.\n",
    "# See the License for the specific language governing permissions and\n",
    "# limitations under the License."
   ]
  },
  {
   "cell_type": "code",
   "execution_count": 3,
   "metadata": {},
   "outputs": [
    {
     "ename": "ModuleNotFoundError",
     "evalue": "No module named 'podaac'",
     "output_type": "error",
     "traceback": [
      "\u001b[0;31m---------------------------------------------------------------------------\u001b[0m",
      "\u001b[0;31mModuleNotFoundError\u001b[0m                       Traceback (most recent call last)",
      "\u001b[0;32m/var/folders/gn/4ykvjj5x03v48y9sy_v11zlh0000gn/T/ipykernel_41042/3696627488.py\u001b[0m in \u001b[0;36m<module>\u001b[0;34m\u001b[0m\n\u001b[1;32m      1\u001b[0m \u001b[0;31m#First lets import the libraries we require\u001b[0m\u001b[0;34m\u001b[0m\u001b[0;34m\u001b[0m\u001b[0;34m\u001b[0m\u001b[0m\n\u001b[1;32m      2\u001b[0m \u001b[0;32mfrom\u001b[0m \u001b[0mpprint\u001b[0m \u001b[0;32mimport\u001b[0m \u001b[0mpprint\u001b[0m\u001b[0;34m\u001b[0m\u001b[0;34m\u001b[0m\u001b[0m\n\u001b[0;32m----> 3\u001b[0;31m \u001b[0;32mimport\u001b[0m \u001b[0mpodaac\u001b[0m\u001b[0;34m.\u001b[0m\u001b[0mpodaac\u001b[0m \u001b[0;32mas\u001b[0m \u001b[0mpodaac\u001b[0m\u001b[0;34m\u001b[0m\u001b[0;34m\u001b[0m\u001b[0m\n\u001b[0m\u001b[1;32m      4\u001b[0m \u001b[0;32mimport\u001b[0m \u001b[0mpodaac\u001b[0m\u001b[0;34m.\u001b[0m\u001b[0mpodaac_utils\u001b[0m \u001b[0;32mas\u001b[0m \u001b[0mutils\u001b[0m\u001b[0;34m\u001b[0m\u001b[0;34m\u001b[0m\u001b[0m\n",
      "\u001b[0;31mModuleNotFoundError\u001b[0m: No module named 'podaac'"
     ]
    }
   ],
   "source": [
    "#First lets import the libraries we require\n",
    "from pprint import pprint\n",
    "import podaac.podaac as podaac\n",
    "import podaac.podaac_utils as utils"
   ]
  },
  {
   "cell_type": "code",
   "execution_count": null,
   "metadata": {},
   "outputs": [],
   "source": [
    "#Then we can create instances of the classes we will use\n",
    "p = podaac.Podaac()\n",
    "u = utils.PodaacUtils()"
   ]
  },
  {
   "cell_type": "code",
   "execution_count": null,
   "metadata": {},
   "outputs": [],
   "source": [
    "#Print a list of CYGNSS dataset id's\n",
    "print('\\nHeres list_all_available_granule_search_dataset_ids()')\n",
    "result = u.list_all_available_granule_search_dataset_ids()\n",
    "dsetId = [i for i in result if 'CYG' in i]\n",
    "pprint(dsetId)"
   ]
  },
  {
   "cell_type": "code",
   "execution_count": null,
   "metadata": {},
   "outputs": [],
   "source": [
    "#Print a list of CYGNSS dataset short names\n",
    "print('\\nHeres list_all_available_granule_search_dataset_short_names()')\n",
    "result = u.list_all_available_granule_search_dataset_short_names()\n",
    "dsetShortName = [i for i in result if 'CYG' in i]\n",
    "pprint(dsetShortName)"
   ]
  },
  {
   "cell_type": "code",
   "execution_count": null,
   "metadata": {},
   "outputs": [],
   "source": [
    "#Perform a search on dataset\n",
    "#NOTE: dataset_id=dsetID pulled up nothing, had to use short_name=\n",
    "print('\\nHeres p.dataset_search()')\n",
    "result = p.dataset_search(short_name=dsetShortName[0])\n",
    "\n",
    "#Cache the dataset landing page URL\n",
    "searchStr = 'http://podaac.jpl.nasa.gov/dataset/'\n",
    "dataset_landing_page = [ str(i) for i in result.strip().split() if searchStr in i ][0]\n",
    "\n",
    "pprint(result)"
   ]
  },
  {
   "cell_type": "code",
   "execution_count": null,
   "metadata": {},
   "outputs": [],
   "source": [
    "#Print total number of GYGNSS Level 2 granules\n",
    "print('\\nHeres total results using p.granule_search()')\n",
    "maxResultsPerPage = '400'\n",
    "result = p.granule_search(dataset_id=dsetId[1],items_per_page=maxResultsPerPage)\n",
    "searchStr = 'totalResults'\n",
    "numResultsStr = [ str(i) for i in result.strip().split() if searchStr in i ]\n",
    "print(numResultsStr)"
   ]
  },
  {
   "cell_type": "code",
   "execution_count": null,
   "metadata": {},
   "outputs": [],
   "source": [
    "#print('\\nHeres the length of file listing: '+str(len(fileStrL))+'\\n')\n",
    "searchStr = '<title>cyg'\n",
    "fileStrL = [ str(i) for i in result.strip().split() if searchStr in i ]\n",
    "podaacL3 = [ i.replace('<title>','').replace('</title>','') for i in fileStrL ]\n",
    "pprint(podaacL3)"
   ]
  },
  {
   "cell_type": "code",
   "execution_count": null,
   "metadata": {},
   "outputs": [],
   "source": [
    "#Lets execute a search for specific granules from the following dataset\n",
    "# MetOp-A ASCAT Level 2 Ocean Surface Wind Vectors Optimized for Coastal Ocean\n",
    "# https://podaac.jpl.nasa.gov/dataset/ASCATA-L2-Coastal\n",
    "# ...based upon temporal (start and end) and spatial contraints. \n",
    "#note that no subsetting is available for these granules as of yet.\n",
    "result = p.granule_search(dataset_id='PODAAC-ASOP2-12C01', \n",
    "                          start_time='2017-06-01T00:00:00Z', \n",
    "                          end_time='2017-10-31T00:00:00Z', \n",
    "                          bbox='-105,5,-10,50', \n",
    "                          sort_by='timeAsc', \n",
    "                          format='atom', \n",
    "                          pretty='true')\n",
    "searchStr = 'totalResults'\n",
    "numResultsStr = [ str(i) for i in result.strip().split() if searchStr in i ]\n",
    "print(numResultsStr)"
   ]
  },
  {
   "cell_type": "code",
   "execution_count": null,
   "metadata": {},
   "outputs": [],
   "source": [
    "#Now lets subset and download one of those granules\n",
    "import os\n",
    "print(os.path.dirname(os.path.abspath('__file__')) + \"/subset.json\")\n",
    "print(os.path.dirname(os.path.abspath('__file__')))\n",
    "result = p.granule_subset(os.path.dirname(os.path.abspath('__file__')) + \"/subset.json\", path=os.path.dirname(os.path.abspath('__file__')))"
   ]
  },
  {
   "cell_type": "code",
   "execution_count": null,
   "metadata": {},
   "outputs": [],
   "source": [
    "#Again, using Elsevier's Scopus Search, lets see other CYGNSS resources we can retreive.\n",
    "url = 'https://api.elsevier.com/content/search/scopus?query=ALL:cygnss&APIKey=715b412c00f0b95e918a3e7abe6e6ee4'\n",
    "import requests\n",
    "try:\n",
    "    metadata = requests.get(url)\n",
    "    status_codes = [404, 400, 503, 408]\n",
    "    if metadata.status_code in status_codes:\n",
    "        metadata.raise_for_status()\n",
    "except requests.exceptions.HTTPError as error:\n",
    "    print(error)\n",
    "    raise\n",
    "pprint(metadata.text)"
   ]
  },
  {
   "cell_type": "code",
   "execution_count": null,
   "metadata": {},
   "outputs": [],
   "source": []
  }
 ],
 "metadata": {
  "kernelspec": {
   "display_name": "Python 3 (ipykernel)",
   "language": "python",
   "name": "python3"
  },
  "language_info": {
   "codemirror_mode": {
    "name": "ipython",
    "version": 3
   },
   "file_extension": ".py",
   "mimetype": "text/x-python",
   "name": "python",
   "nbconvert_exporter": "python",
   "pygments_lexer": "ipython3",
   "version": "3.7.11"
  }
 },
 "nbformat": 4,
 "nbformat_minor": 2
}
